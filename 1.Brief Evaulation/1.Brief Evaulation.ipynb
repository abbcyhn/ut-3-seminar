{
 "cells": [
  {
   "cell_type": "markdown",
   "metadata": {},
   "source": [
    "# Distributed Systems Seminar"
   ]
  },
  {
   "cell_type": "markdown",
   "metadata": {},
   "source": [
    "## Topic: Evaluate the DASK distributed computing framework in respect to various scientific computing tasks"
   ]
  },
  {
   "cell_type": "markdown",
   "metadata": {},
   "source": [
    "### Task: The list of related software packages along with the description and brief evaluation"
   ]
  },
  {
   "cell_type": "markdown",
   "metadata": {},
   "source": [
    "I have choosen for 5 software packages for evaulation:"
   ]
  },
  {
   "cell_type": "markdown",
   "metadata": {},
   "source": [
    "1. Apache Spark - is an open-source unified analytics engine for large-scale data processing.<sup>[[1]](https://en.wikipedia.org/wiki/Apache_Spark)</sup>"
   ]
  },
  {
   "cell_type": "markdown",
   "metadata": {},
   "source": [
    "2. MapReduce is a software framework for easily writing applications which process vast amounts of data (multi-terabyte data-sets) in-parallel on large clusters (thousands of nodes) of commodity hardware in a reliable, fault-tolerant manner. <sup>[[2](https://hadoop.apache.org/docs/stable/hadoop-mapreduce-client/hadoop-mapreduce-client-core/MapReduceTutorial.html)]</sup>"
   ]
  },
  {
   "cell_type": "markdown",
   "metadata": {},
   "source": [
    "3. The Open MPI Project is an open source Message Passing Interface implementation that is developed and maintained by a consortium of academic, research, and industry partners. <sup>[[3](https://www.open-mpi.org/)]</sup>"
   ]
  },
  {
   "cell_type": "markdown",
   "metadata": {},
   "source": [
    "4. Dask is a flexible open-source Python library for parallel computing. <sup>[[4](https://en.wikipedia.org/wiki/Dask_(software))]</sup>"
   ]
  },
  {
   "cell_type": "markdown",
   "metadata": {},
   "source": [
    "5. Vaex is a python library that helps to visualize and explore big tabular datasets. It is a high performance library and can solve many of the shortcomings of pandas. <sup>[[5](https://vaex.io/)]</sup>"
   ]
  },
  {
   "cell_type": "markdown",
   "metadata": {},
   "source": [
    "First of all, I searched the literatures in order to get familiarize myself with the choosen software packages and investigate their performance evaulations. The literatures that I have choosen for that task are as following:"
   ]
  },
  {
   "cell_type": "markdown",
   "metadata": {},
   "source": [
    "* The main difference between the two frameworks is that MapReduce processes data on disk whereas Spark processes and retains data in memory for subsequent steps. <sup>[[6](http://www.differencebetween.net/technology/difference-between-mapreduce-and-spark/)]</sup>\n",
    "* Performance Evaluation of Apache Spark Vs MPI <sup>[[7](https://thescipub.com/pdf/10.3844/jcssp.2017.781.794)]</sup>\n",
    "* Scaling Pandas: Comparing Dask, Ray, Modin, Vaex, and RAPIDS <sup>[[8](https://www.datarevenue.com/en-blog/pandas-vs-dask-vs-vaex-vs-modin-vs-rapids-vs-ray)]</sup>"
   ]
  },
  {
   "cell_type": "markdown",
   "metadata": {},
   "source": [
    "After reading and investigating the literatures, I have decided to look at performance evaulation of choosen software packages as following:"
   ]
  },
  {
   "cell_type": "markdown",
   "metadata": {},
   "source": [
    "* Apache Spark & MapReduce"
   ]
  },
  {
   "cell_type": "markdown",
   "metadata": {},
   "source": [
    "* Apache Spark & Open MPI"
   ]
  },
  {
   "cell_type": "markdown",
   "metadata": {},
   "source": [
    "* Dask & Vaex"
   ]
  },
  {
   "cell_type": "markdown",
   "metadata": {},
   "source": [
    "### Apache Spark & MapReduce"
   ]
  },
  {
   "cell_type": "markdown",
   "metadata": {},
   "source": [
    "The main difference between the two frameworks is that MapReduce processes data on disk whereas Spark processes and retains data in memory for subsequent steps. <sup>[[6](http://www.differencebetween.net/technology/difference-between-mapreduce-and-spark/#:~:text=The%20main%20difference%20between%20the,faster%20on%20disk%20than%20MapReduce.)]</sup>"
   ]
  },
  {
   "cell_type": "markdown",
   "metadata": {},
   "source": [
    "According to the *A comprehensive performance analysis of Apache Hadoop and Apache Spark for large scale data sets using HiBench* article, Spark has better performance as compared to Hadoop by two times with WordCount work load and 14 times with Tera-Sort workloads respectively when default parameters are tuned with new values. Further more, the throughput and speedup results show that Spark is more stable and faster than Hadoop because of Spark data processing ability in memory instead of store in disk for the map and reduced function. The authors have also found that Spark performance degraded when input data was larger."
   ]
  },
  {
   "cell_type": "markdown",
   "metadata": {},
   "source": [
    "As a workload, the authors have chosen WordCount <sup>[[9](https://cwiki.apache.org/confluence/display/hadoop2/wordcount)]</sup> and TeraSort <sup>[[10](https://accumulo.apache.org/1.7/examples/terasort)]</sup>. Some of the experiments and results of the articles are follows:"
   ]
  },
  {
   "cell_type": "markdown",
   "metadata": {},
   "source": [
    "* Execution time"
   ]
  },
  {
   "cell_type": "markdown",
   "metadata": {},
   "source": [
    "![execution_time.png](images/execution_time.png)"
   ]
  },
  {
   "cell_type": "markdown",
   "metadata": {},
   "source": [
    "* Throughput"
   ]
  },
  {
   "cell_type": "markdown",
   "metadata": {},
   "source": [
    "![throughput.png](images/throughput.png)"
   ]
  },
  {
   "cell_type": "markdown",
   "metadata": {},
   "source": [
    "### Apache Spark & Open MPI"
   ]
  },
  {
   "cell_type": "markdown",
   "metadata": {},
   "source": [
    "Accorting to the *Performance Evaluation of Apache Spark Vs MPI* article, better performance on MPI environment than Spark was due to two reasons:\n",
    "\n",
    "1. In MPI, the freedom of the programmer to choose the memory requirements, in terms of the number of lines of tweets to be executed to avail better performance. Whereas in Spark, the memory allocation and task scheduling are purely under the control of Spark processing Framework and programmer intervention is not possible.\n",
    "\n",
    "2. C++ is more flexible programming language than Scala. "
   ]
  },
  {
   "cell_type": "markdown",
   "metadata": {},
   "source": [
    "Some of the experiments and results of the articles are follows:"
   ]
  },
  {
   "cell_type": "markdown",
   "metadata": {},
   "source": [
    "* Sentiment analysis on apache spark (Scala) (100 GB) "
   ]
  },
  {
   "cell_type": "markdown",
   "metadata": {},
   "source": [
    "![sentiment_analysis_spark.png](images/sentiment_analysis_spark.png)"
   ]
  },
  {
   "cell_type": "markdown",
   "metadata": {},
   "source": [
    "* Sentiment analysis on MPI (C/C++)(100 GB)"
   ]
  },
  {
   "cell_type": "markdown",
   "metadata": {},
   "source": [
    "![sentiment_analysis_mpi.png](images/sentiment_analysis_mpi.png)"
   ]
  },
  {
   "cell_type": "markdown",
   "metadata": {},
   "source": [
    "* Execution times on 100 GB/500 GB/1 TB datasets in spark processing"
   ]
  },
  {
   "cell_type": "markdown",
   "metadata": {},
   "source": [
    "![execution_time_spark.png](images/execution_time_spark.png)"
   ]
  },
  {
   "cell_type": "markdown",
   "metadata": {},
   "source": [
    "* Execution times on 100GB/500GB/1TB datasets in MPI"
   ]
  },
  {
   "cell_type": "markdown",
   "metadata": {},
   "source": [
    "![execution_time_mpi.png](images/execution_time_mpi.png)"
   ]
  },
  {
   "cell_type": "markdown",
   "metadata": {},
   "source": [
    "### Dask & Vaex"
   ]
  },
  {
   "cell_type": "markdown",
   "metadata": {},
   "source": [
    "Dask is better thought of as two projects: a low-level Python scheduler and a higher-level Dataframe module <sup>[[8](https://www.datarevenue.com/en-blog/pandas-vs-dask-vs-vaex-vs-modin-vs-rapids-vs-ray#:~:text=Dask%20is%20better%20thought%20of%20as%20two%20projects%3A%20a%20low%2Dlevel%20Python%20scheduler%20(similar%20in%20some%20ways%20to%20Ray)%20and%20a%20higher%2Dlevel%20Dataframe%20module%20(similar%20in%20many%20ways%20to%20Pandas).)]</sup>\n",
    "\n",
    "According to the *Scaling Pandas: Comparing Dask, Ray, Modin, Vaex, and RAPIDS*, Dask is more focused on letting you scale your code to compute clusters, while Vaex makes it easier to work with large datasets on a single machine.\n",
    "\n",
    "Dask main scaling strategy is _clusters_, while Vaex main scaling strategy is _lazy loading_. Their scaling abilities are changing regarding the data size. For example, the scaling ability is _1 TB+_ in Dask, and _100 GB+_ in Vaex."
   ]
  },
  {
   "cell_type": "markdown",
   "metadata": {},
   "source": [
    "### References:\n",
    "\n",
    "[1] Apache Spark. https://en.wikipedia.org/wiki/Apache_Spark\n",
    "\n",
    "[2] MapReduce Documents. https://hadoop.apache.org/docs/stable/hadoop-mapreduce-client/hadoop-mapreduce-client-core/MapReduceTutorial.html\n",
    "\n",
    "[3] Open MPI: Open Source High Performance Computing. https://www.open-mpi.org/\n",
    "\n",
    "[4] Dask (software). https://en.wikipedia.org/wiki/Dask_(software)\n",
    "\n",
    "[5] Vaex. https://vaex.io/\n",
    "\n",
    "[6] Difference Between MapReduce and Spark. http://www.differencebetween.net/technology/difference-between-mapreduce-and-spark\n",
    "\n",
    "[7] Performance Evaluation of Apache Spark Vs MPI: A Practical Case Study on Twitter Sentiment Analysis. https://thescipub.com/pdf/10.3844/jcssp.2017.781.794\n",
    "\n",
    "[8] Scaling Pandas: Comparing Dask, Ray, Modin, Vaex, and RAPIDS. https://www.datarevenue.com/en-blog/pandas-vs-dask-vs-vaex-vs-modin-vs-rapids-vs-ray\n",
    "\n",
    "[9] WordCount. https://cwiki.apache.org/confluence/display/hadoop2/wordcount\n",
    "\n",
    "[10] Terasort. https://accumulo.apache.org/1.7/examples/terasort"
   ]
  }
 ],
 "metadata": {
  "kernelspec": {
   "display_name": "Python 3.8.8 ('base')",
   "language": "python",
   "name": "python3"
  },
  "language_info": {
   "name": "python",
   "version": "3.8.8"
  },
  "orig_nbformat": 4,
  "vscode": {
   "interpreter": {
    "hash": "25c1030473cb3380d1bf1196c8dc320416a9a2130e986b3aabac08cd25ab1c65"
   }
  }
 },
 "nbformat": 4,
 "nbformat_minor": 2
}
